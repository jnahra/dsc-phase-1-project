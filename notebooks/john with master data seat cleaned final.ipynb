{
 "cells": [
  {
   "cell_type": "code",
   "execution_count": 1,
   "metadata": {},
   "outputs": [],
   "source": [
    "import pandas as pd\n",
    "import matplotlib.pyplot as plt\n",
    "%matplotlib inline\n",
    "import seaborn as sns\n"
   ]
  },
  {
   "cell_type": "code",
   "execution_count": 2,
   "metadata": {},
   "outputs": [],
   "source": [
    "df = pd.read_csv('masterdataset.csv')"
   ]
  },
  {
   "cell_type": "code",
   "execution_count": 3,
   "metadata": {},
   "outputs": [
    {
     "data": {
      "text/html": [
       "<div>\n",
       "<style scoped>\n",
       "    .dataframe tbody tr th:only-of-type {\n",
       "        vertical-align: middle;\n",
       "    }\n",
       "\n",
       "    .dataframe tbody tr th {\n",
       "        vertical-align: top;\n",
       "    }\n",
       "\n",
       "    .dataframe thead th {\n",
       "        text-align: right;\n",
       "    }\n",
       "</style>\n",
       "<table border=\"1\" class=\"dataframe\">\n",
       "  <thead>\n",
       "    <tr style=\"text-align: right;\">\n",
       "      <th></th>\n",
       "      <th>Unnamed: 0</th>\n",
       "      <th>id</th>\n",
       "      <th>release_date</th>\n",
       "      <th>movie</th>\n",
       "      <th>production_budget</th>\n",
       "      <th>domestic_gross</th>\n",
       "      <th>worldwide_gross</th>\n",
       "      <th>year</th>\n",
       "      <th>movie_id</th>\n",
       "      <th>original_title</th>\n",
       "      <th>runtime_minutes</th>\n",
       "      <th>genres</th>\n",
       "      <th>averagerating</th>\n",
       "      <th>numvotes</th>\n",
       "    </tr>\n",
       "  </thead>\n",
       "  <tbody>\n",
       "    <tr>\n",
       "      <th>0</th>\n",
       "      <td>0</td>\n",
       "      <td>2</td>\n",
       "      <td>May 20, 2011</td>\n",
       "      <td>Pirates of the Caribbean: On Stranger Tides</td>\n",
       "      <td>$410,600,000</td>\n",
       "      <td>$241,063,875</td>\n",
       "      <td>$1,045,663,875</td>\n",
       "      <td>2011</td>\n",
       "      <td>tt1298650</td>\n",
       "      <td>Pirates of the Caribbean: On Stranger Tides</td>\n",
       "      <td>136.0</td>\n",
       "      <td>Action,Adventure,Fantasy</td>\n",
       "      <td>6.6</td>\n",
       "      <td>447624.0</td>\n",
       "    </tr>\n",
       "    <tr>\n",
       "      <th>1</th>\n",
       "      <td>1</td>\n",
       "      <td>3</td>\n",
       "      <td>Jun 7, 2019</td>\n",
       "      <td>Dark Phoenix</td>\n",
       "      <td>$350,000,000</td>\n",
       "      <td>$42,762,350</td>\n",
       "      <td>$149,762,350</td>\n",
       "      <td>2019</td>\n",
       "      <td>tt6565702</td>\n",
       "      <td>Dark Phoenix</td>\n",
       "      <td>113.0</td>\n",
       "      <td>Action,Adventure,Sci-Fi</td>\n",
       "      <td>6.0</td>\n",
       "      <td>24451.0</td>\n",
       "    </tr>\n",
       "    <tr>\n",
       "      <th>2</th>\n",
       "      <td>2</td>\n",
       "      <td>4</td>\n",
       "      <td>May 1, 2015</td>\n",
       "      <td>Avengers: Age of Ultron</td>\n",
       "      <td>$330,600,000</td>\n",
       "      <td>$459,005,868</td>\n",
       "      <td>$1,403,013,963</td>\n",
       "      <td>2015</td>\n",
       "      <td>tt2395427</td>\n",
       "      <td>Avengers: Age of Ultron</td>\n",
       "      <td>141.0</td>\n",
       "      <td>Action,Adventure,Sci-Fi</td>\n",
       "      <td>7.3</td>\n",
       "      <td>665594.0</td>\n",
       "    </tr>\n",
       "    <tr>\n",
       "      <th>3</th>\n",
       "      <td>3</td>\n",
       "      <td>7</td>\n",
       "      <td>Apr 27, 2018</td>\n",
       "      <td>Avengers: Infinity War</td>\n",
       "      <td>$300,000,000</td>\n",
       "      <td>$678,815,482</td>\n",
       "      <td>$2,048,134,200</td>\n",
       "      <td>2018</td>\n",
       "      <td>tt4154756</td>\n",
       "      <td>Avengers: Infinity War</td>\n",
       "      <td>149.0</td>\n",
       "      <td>Action,Adventure,Sci-Fi</td>\n",
       "      <td>8.5</td>\n",
       "      <td>670926.0</td>\n",
       "    </tr>\n",
       "    <tr>\n",
       "      <th>4</th>\n",
       "      <td>4</td>\n",
       "      <td>9</td>\n",
       "      <td>Nov 17, 2017</td>\n",
       "      <td>Justice League</td>\n",
       "      <td>$300,000,000</td>\n",
       "      <td>$229,024,295</td>\n",
       "      <td>$655,945,209</td>\n",
       "      <td>2017</td>\n",
       "      <td>tt0974015</td>\n",
       "      <td>Justice League</td>\n",
       "      <td>120.0</td>\n",
       "      <td>Action,Adventure,Fantasy</td>\n",
       "      <td>6.5</td>\n",
       "      <td>329135.0</td>\n",
       "    </tr>\n",
       "  </tbody>\n",
       "</table>\n",
       "</div>"
      ],
      "text/plain": [
       "   Unnamed: 0  id  release_date                                        movie  \\\n",
       "0           0   2  May 20, 2011  Pirates of the Caribbean: On Stranger Tides   \n",
       "1           1   3   Jun 7, 2019                                 Dark Phoenix   \n",
       "2           2   4   May 1, 2015                      Avengers: Age of Ultron   \n",
       "3           3   7  Apr 27, 2018                       Avengers: Infinity War   \n",
       "4           4   9  Nov 17, 2017                               Justice League   \n",
       "\n",
       "  production_budget domestic_gross worldwide_gross  year   movie_id  \\\n",
       "0      $410,600,000   $241,063,875  $1,045,663,875  2011  tt1298650   \n",
       "1      $350,000,000    $42,762,350    $149,762,350  2019  tt6565702   \n",
       "2      $330,600,000   $459,005,868  $1,403,013,963  2015  tt2395427   \n",
       "3      $300,000,000   $678,815,482  $2,048,134,200  2018  tt4154756   \n",
       "4      $300,000,000   $229,024,295    $655,945,209  2017  tt0974015   \n",
       "\n",
       "                                original_title  runtime_minutes  \\\n",
       "0  Pirates of the Caribbean: On Stranger Tides            136.0   \n",
       "1                                 Dark Phoenix            113.0   \n",
       "2                      Avengers: Age of Ultron            141.0   \n",
       "3                       Avengers: Infinity War            149.0   \n",
       "4                               Justice League            120.0   \n",
       "\n",
       "                     genres  averagerating  numvotes  \n",
       "0  Action,Adventure,Fantasy            6.6  447624.0  \n",
       "1   Action,Adventure,Sci-Fi            6.0   24451.0  \n",
       "2   Action,Adventure,Sci-Fi            7.3  665594.0  \n",
       "3   Action,Adventure,Sci-Fi            8.5  670926.0  \n",
       "4  Action,Adventure,Fantasy            6.5  329135.0  "
      ]
     },
     "execution_count": 3,
     "metadata": {},
     "output_type": "execute_result"
    }
   ],
   "source": [
    "df.head()"
   ]
  },
  {
   "cell_type": "code",
   "execution_count": 4,
   "metadata": {},
   "outputs": [
    {
     "name": "stdout",
     "output_type": "stream",
     "text": [
      "<class 'pandas.core.frame.DataFrame'>\n",
      "RangeIndex: 1459 entries, 0 to 1458\n",
      "Data columns (total 14 columns):\n",
      " #   Column             Non-Null Count  Dtype  \n",
      "---  ------             --------------  -----  \n",
      " 0   Unnamed: 0         1459 non-null   int64  \n",
      " 1   id                 1459 non-null   int64  \n",
      " 2   release_date       1459 non-null   object \n",
      " 3   movie              1459 non-null   object \n",
      " 4   production_budget  1459 non-null   object \n",
      " 5   domestic_gross     1459 non-null   object \n",
      " 6   worldwide_gross    1459 non-null   object \n",
      " 7   year               1459 non-null   int64  \n",
      " 8   movie_id           1459 non-null   object \n",
      " 9   original_title     1459 non-null   object \n",
      " 10  runtime_minutes    1459 non-null   float64\n",
      " 11  genres             1459 non-null   object \n",
      " 12  averagerating      1459 non-null   float64\n",
      " 13  numvotes           1459 non-null   float64\n",
      "dtypes: float64(3), int64(3), object(8)\n",
      "memory usage: 159.7+ KB\n"
     ]
    }
   ],
   "source": [
    "df.info()"
   ]
  },
  {
   "cell_type": "code",
   "execution_count": 5,
   "metadata": {},
   "outputs": [
    {
     "data": {
      "text/html": [
       "<div>\n",
       "<style scoped>\n",
       "    .dataframe tbody tr th:only-of-type {\n",
       "        vertical-align: middle;\n",
       "    }\n",
       "\n",
       "    .dataframe tbody tr th {\n",
       "        vertical-align: top;\n",
       "    }\n",
       "\n",
       "    .dataframe thead th {\n",
       "        text-align: right;\n",
       "    }\n",
       "</style>\n",
       "<table border=\"1\" class=\"dataframe\">\n",
       "  <thead>\n",
       "    <tr style=\"text-align: right;\">\n",
       "      <th></th>\n",
       "      <th>Unnamed: 0</th>\n",
       "      <th>id</th>\n",
       "      <th>year</th>\n",
       "      <th>runtime_minutes</th>\n",
       "      <th>averagerating</th>\n",
       "      <th>numvotes</th>\n",
       "    </tr>\n",
       "  </thead>\n",
       "  <tbody>\n",
       "    <tr>\n",
       "      <th>count</th>\n",
       "      <td>1459.000000</td>\n",
       "      <td>1459.000000</td>\n",
       "      <td>1459.000000</td>\n",
       "      <td>1459.000000</td>\n",
       "      <td>1459.000000</td>\n",
       "      <td>1.459000e+03</td>\n",
       "    </tr>\n",
       "    <tr>\n",
       "      <th>mean</th>\n",
       "      <td>764.222755</td>\n",
       "      <td>51.002056</td>\n",
       "      <td>2013.849897</td>\n",
       "      <td>107.643592</td>\n",
       "      <td>6.279918</td>\n",
       "      <td>1.178483e+05</td>\n",
       "    </tr>\n",
       "    <tr>\n",
       "      <th>std</th>\n",
       "      <td>445.325159</td>\n",
       "      <td>28.650357</td>\n",
       "      <td>2.568423</td>\n",
       "      <td>17.905381</td>\n",
       "      <td>1.065683</td>\n",
       "      <td>1.652269e+05</td>\n",
       "    </tr>\n",
       "    <tr>\n",
       "      <th>min</th>\n",
       "      <td>0.000000</td>\n",
       "      <td>1.000000</td>\n",
       "      <td>2010.000000</td>\n",
       "      <td>5.000000</td>\n",
       "      <td>1.600000</td>\n",
       "      <td>5.000000e+00</td>\n",
       "    </tr>\n",
       "    <tr>\n",
       "      <th>25%</th>\n",
       "      <td>379.500000</td>\n",
       "      <td>26.000000</td>\n",
       "      <td>2012.000000</td>\n",
       "      <td>95.000000</td>\n",
       "      <td>5.700000</td>\n",
       "      <td>1.604650e+04</td>\n",
       "    </tr>\n",
       "    <tr>\n",
       "      <th>50%</th>\n",
       "      <td>759.000000</td>\n",
       "      <td>51.000000</td>\n",
       "      <td>2014.000000</td>\n",
       "      <td>105.000000</td>\n",
       "      <td>6.400000</td>\n",
       "      <td>6.051000e+04</td>\n",
       "    </tr>\n",
       "    <tr>\n",
       "      <th>75%</th>\n",
       "      <td>1148.500000</td>\n",
       "      <td>76.000000</td>\n",
       "      <td>2016.000000</td>\n",
       "      <td>118.000000</td>\n",
       "      <td>7.000000</td>\n",
       "      <td>1.450510e+05</td>\n",
       "    </tr>\n",
       "    <tr>\n",
       "      <th>max</th>\n",
       "      <td>1546.000000</td>\n",
       "      <td>100.000000</td>\n",
       "      <td>2019.000000</td>\n",
       "      <td>180.000000</td>\n",
       "      <td>8.800000</td>\n",
       "      <td>1.841066e+06</td>\n",
       "    </tr>\n",
       "  </tbody>\n",
       "</table>\n",
       "</div>"
      ],
      "text/plain": [
       "        Unnamed: 0           id         year  runtime_minutes  averagerating  \\\n",
       "count  1459.000000  1459.000000  1459.000000      1459.000000    1459.000000   \n",
       "mean    764.222755    51.002056  2013.849897       107.643592       6.279918   \n",
       "std     445.325159    28.650357     2.568423        17.905381       1.065683   \n",
       "min       0.000000     1.000000  2010.000000         5.000000       1.600000   \n",
       "25%     379.500000    26.000000  2012.000000        95.000000       5.700000   \n",
       "50%     759.000000    51.000000  2014.000000       105.000000       6.400000   \n",
       "75%    1148.500000    76.000000  2016.000000       118.000000       7.000000   \n",
       "max    1546.000000   100.000000  2019.000000       180.000000       8.800000   \n",
       "\n",
       "           numvotes  \n",
       "count  1.459000e+03  \n",
       "mean   1.178483e+05  \n",
       "std    1.652269e+05  \n",
       "min    5.000000e+00  \n",
       "25%    1.604650e+04  \n",
       "50%    6.051000e+04  \n",
       "75%    1.450510e+05  \n",
       "max    1.841066e+06  "
      ]
     },
     "execution_count": 5,
     "metadata": {},
     "output_type": "execute_result"
    }
   ],
   "source": [
    "df.describe()"
   ]
  },
  {
   "cell_type": "code",
   "execution_count": 6,
   "metadata": {},
   "outputs": [
    {
     "data": {
      "image/png": "[encoded data removed]",
      "text/plain": [
       "<Figure size 432x288 with 1 Axes>"
      ]
     },
     "metadata": {
      "needs_background": "light"
     },
     "output_type": "display_data"
    }
   ],
   "source": [
    "df['runtime_minutes'].plot(kind='hist');"
   ]
  },
  {
   "cell_type": "code",
   "execution_count": 7,
   "metadata": {},
   "outputs": [
    {
     "data": {
      "image/png": "[encoded data removed]",
      "text/plain": [
       "<Figure size 432x288 with 1 Axes>"
      ]
     },
     "metadata": {
      "needs_background": "light"
     },
     "output_type": "display_data"
    }
   ],
   "source": [
    "df['averagerating'].plot(kind='hist');"
   ]
  },
  {
   "cell_type": "code",
   "execution_count": 8,
   "metadata": {},
   "outputs": [
    {
     "data": {
      "image/png": "[encoded data removed]",
      "text/plain": [
       "<Figure size 432x288 with 1 Axes>"
      ]
     },
     "metadata": {
      "needs_background": "light"
     },
     "output_type": "display_data"
    }
   ],
   "source": [
    "df['numvotes'].plot(kind='hist',bins=1000)\n",
    "plt.xlim(-10000,20000);"
   ]
  },
  {
   "cell_type": "code",
   "execution_count": 9,
   "metadata": {},
   "outputs": [
    {
     "data": {
      "image/png": "[encoded data removed]",
      "text/plain": [
       "<Figure size 432x288 with 1 Axes>"
      ]
     },
     "metadata": {
      "needs_background": "light"
     },
     "output_type": "display_data"
    }
   ],
   "source": [
    "df['numvotes'].plot(kind='box');"
   ]
  },
  {
   "cell_type": "code",
   "execution_count": 10,
   "metadata": {},
   "outputs": [],
   "source": [
    "df['worldwide_gross'] = df['worldwide_gross'].str[1:]\n",
    "\n",
    "df['worldwide_gross'] = df['worldwide_gross'].str.replace(',','')\n",
    "\n",
    "df['worldwide_gross'] = df['worldwide_gross'].astype(int)\n",
    "\n",
    "df['domestic_gross'] = df['domestic_gross'].str[1:]\n",
    "\n",
    "df['domestic_gross'] = df['domestic_gross'].str.replace(',','')\n",
    "\n",
    "df['domestic_gross'] = df['domestic_gross'].astype(int)\n",
    "\n",
    "df['production_budget'] = df['production_budget'].str[1:]\n",
    "\n",
    "df['production_budget'] = df['production_budget'].str.replace(',','')\n",
    "\n",
    "df['production_budget'] = df['production_budget'].astype(int)\n",
    "\n",
    "df['profit'] = df['worldwide_gross'] - df['production_budget']\n",
    "\n",
    "df['ROI'] = df['profit'] / df['production_budget'] * 100"
   ]
  },
  {
   "cell_type": "code",
   "execution_count": 11,
   "metadata": {},
   "outputs": [
    {
     "data": {
      "text/html": [
       "<div>\n",
       "<style scoped>\n",
       "    .dataframe tbody tr th:only-of-type {\n",
       "        vertical-align: middle;\n",
       "    }\n",
       "\n",
       "    .dataframe tbody tr th {\n",
       "        vertical-align: top;\n",
       "    }\n",
       "\n",
       "    .dataframe thead th {\n",
       "        text-align: right;\n",
       "    }\n",
       "</style>\n",
       "<table border=\"1\" class=\"dataframe\">\n",
       "  <thead>\n",
       "    <tr style=\"text-align: right;\">\n",
       "      <th></th>\n",
       "      <th>Unnamed: 0</th>\n",
       "      <th>id</th>\n",
       "      <th>release_date</th>\n",
       "      <th>movie</th>\n",
       "      <th>production_budget</th>\n",
       "      <th>domestic_gross</th>\n",
       "      <th>worldwide_gross</th>\n",
       "      <th>year</th>\n",
       "      <th>movie_id</th>\n",
       "      <th>original_title</th>\n",
       "      <th>runtime_minutes</th>\n",
       "      <th>genres</th>\n",
       "      <th>averagerating</th>\n",
       "      <th>numvotes</th>\n",
       "      <th>profit</th>\n",
       "      <th>ROI</th>\n",
       "    </tr>\n",
       "  </thead>\n",
       "  <tbody>\n",
       "    <tr>\n",
       "      <th>0</th>\n",
       "      <td>0</td>\n",
       "      <td>2</td>\n",
       "      <td>May 20, 2011</td>\n",
       "      <td>Pirates of the Caribbean: On Stranger Tides</td>\n",
       "      <td>410600000</td>\n",
       "      <td>241063875</td>\n",
       "      <td>1045663875</td>\n",
       "      <td>2011</td>\n",
       "      <td>tt1298650</td>\n",
       "      <td>Pirates of the Caribbean: On Stranger Tides</td>\n",
       "      <td>136.0</td>\n",
       "      <td>Action,Adventure,Fantasy</td>\n",
       "      <td>6.6</td>\n",
       "      <td>447624.0</td>\n",
       "      <td>635063875</td>\n",
       "      <td>154.667286</td>\n",
       "    </tr>\n",
       "    <tr>\n",
       "      <th>1</th>\n",
       "      <td>1</td>\n",
       "      <td>3</td>\n",
       "      <td>Jun 7, 2019</td>\n",
       "      <td>Dark Phoenix</td>\n",
       "      <td>350000000</td>\n",
       "      <td>42762350</td>\n",
       "      <td>149762350</td>\n",
       "      <td>2019</td>\n",
       "      <td>tt6565702</td>\n",
       "      <td>Dark Phoenix</td>\n",
       "      <td>113.0</td>\n",
       "      <td>Action,Adventure,Sci-Fi</td>\n",
       "      <td>6.0</td>\n",
       "      <td>24451.0</td>\n",
       "      <td>-200237650</td>\n",
       "      <td>-57.210757</td>\n",
       "    </tr>\n",
       "    <tr>\n",
       "      <th>2</th>\n",
       "      <td>2</td>\n",
       "      <td>4</td>\n",
       "      <td>May 1, 2015</td>\n",
       "      <td>Avengers: Age of Ultron</td>\n",
       "      <td>330600000</td>\n",
       "      <td>459005868</td>\n",
       "      <td>1403013963</td>\n",
       "      <td>2015</td>\n",
       "      <td>tt2395427</td>\n",
       "      <td>Avengers: Age of Ultron</td>\n",
       "      <td>141.0</td>\n",
       "      <td>Action,Adventure,Sci-Fi</td>\n",
       "      <td>7.3</td>\n",
       "      <td>665594.0</td>\n",
       "      <td>1072413963</td>\n",
       "      <td>324.384139</td>\n",
       "    </tr>\n",
       "    <tr>\n",
       "      <th>3</th>\n",
       "      <td>3</td>\n",
       "      <td>7</td>\n",
       "      <td>Apr 27, 2018</td>\n",
       "      <td>Avengers: Infinity War</td>\n",
       "      <td>300000000</td>\n",
       "      <td>678815482</td>\n",
       "      <td>2048134200</td>\n",
       "      <td>2018</td>\n",
       "      <td>tt4154756</td>\n",
       "      <td>Avengers: Infinity War</td>\n",
       "      <td>149.0</td>\n",
       "      <td>Action,Adventure,Sci-Fi</td>\n",
       "      <td>8.5</td>\n",
       "      <td>670926.0</td>\n",
       "      <td>1748134200</td>\n",
       "      <td>582.711400</td>\n",
       "    </tr>\n",
       "    <tr>\n",
       "      <th>4</th>\n",
       "      <td>4</td>\n",
       "      <td>9</td>\n",
       "      <td>Nov 17, 2017</td>\n",
       "      <td>Justice League</td>\n",
       "      <td>300000000</td>\n",
       "      <td>229024295</td>\n",
       "      <td>655945209</td>\n",
       "      <td>2017</td>\n",
       "      <td>tt0974015</td>\n",
       "      <td>Justice League</td>\n",
       "      <td>120.0</td>\n",
       "      <td>Action,Adventure,Fantasy</td>\n",
       "      <td>6.5</td>\n",
       "      <td>329135.0</td>\n",
       "      <td>355945209</td>\n",
       "      <td>118.648403</td>\n",
       "    </tr>\n",
       "  </tbody>\n",
       "</table>\n",
       "</div>"
      ],
      "text/plain": [
       "   Unnamed: 0  id  release_date                                        movie  \\\n",
       "0           0   2  May 20, 2011  Pirates of the Caribbean: On Stranger Tides   \n",
       "1           1   3   Jun 7, 2019                                 Dark Phoenix   \n",
       "2           2   4   May 1, 2015                      Avengers: Age of Ultron   \n",
       "3           3   7  Apr 27, 2018                       Avengers: Infinity War   \n",
       "4           4   9  Nov 17, 2017                               Justice League   \n",
       "\n",
       "   production_budget  domestic_gross  worldwide_gross  year   movie_id  \\\n",
       "0          410600000       241063875       1045663875  2011  tt1298650   \n",
       "1          350000000        42762350        149762350  2019  tt6565702   \n",
       "2          330600000       459005868       1403013963  2015  tt2395427   \n",
       "3          300000000       678815482       2048134200  2018  tt4154756   \n",
       "4          300000000       229024295        655945209  2017  tt0974015   \n",
       "\n",
       "                                original_title  runtime_minutes  \\\n",
       "0  Pirates of the Caribbean: On Stranger Tides            136.0   \n",
       "1                                 Dark Phoenix            113.0   \n",
       "2                      Avengers: Age of Ultron            141.0   \n",
       "3                       Avengers: Infinity War            149.0   \n",
       "4                               Justice League            120.0   \n",
       "\n",
       "                     genres  averagerating  numvotes      profit         ROI  \n",
       "0  Action,Adventure,Fantasy            6.6  447624.0   635063875  154.667286  \n",
       "1   Action,Adventure,Sci-Fi            6.0   24451.0  -200237650  -57.210757  \n",
       "2   Action,Adventure,Sci-Fi            7.3  665594.0  1072413963  324.384139  \n",
       "3   Action,Adventure,Sci-Fi            8.5  670926.0  1748134200  582.711400  \n",
       "4  Action,Adventure,Fantasy            6.5  329135.0   355945209  118.648403  "
      ]
     },
     "execution_count": 11,
     "metadata": {},
     "output_type": "execute_result"
    }
   ],
   "source": [
    "df.head()"
   ]
  },
  {
   "cell_type": "code",
   "execution_count": 12,
   "metadata": {},
   "outputs": [
    {
     "data": {
      "text/html": [
       "<div>\n",
       "<style scoped>\n",
       "    .dataframe tbody tr th:only-of-type {\n",
       "        vertical-align: middle;\n",
       "    }\n",
       "\n",
       "    .dataframe tbody tr th {\n",
       "        vertical-align: top;\n",
       "    }\n",
       "\n",
       "    .dataframe thead th {\n",
       "        text-align: right;\n",
       "    }\n",
       "</style>\n",
       "<table border=\"1\" class=\"dataframe\">\n",
       "  <thead>\n",
       "    <tr style=\"text-align: right;\">\n",
       "      <th></th>\n",
       "      <th>Unnamed: 0</th>\n",
       "      <th>id</th>\n",
       "      <th>production_budget</th>\n",
       "      <th>domestic_gross</th>\n",
       "      <th>worldwide_gross</th>\n",
       "      <th>year</th>\n",
       "      <th>runtime_minutes</th>\n",
       "      <th>averagerating</th>\n",
       "      <th>numvotes</th>\n",
       "      <th>profit</th>\n",
       "      <th>ROI</th>\n",
       "    </tr>\n",
       "  </thead>\n",
       "  <tbody>\n",
       "    <tr>\n",
       "      <th>count</th>\n",
       "      <td>1459.000000</td>\n",
       "      <td>1459.000000</td>\n",
       "      <td>1.459000e+03</td>\n",
       "      <td>1.459000e+03</td>\n",
       "      <td>1.459000e+03</td>\n",
       "      <td>1459.000000</td>\n",
       "      <td>1459.000000</td>\n",
       "      <td>1459.000000</td>\n",
       "      <td>1.459000e+03</td>\n",
       "      <td>1.459000e+03</td>\n",
       "      <td>1459.000000</td>\n",
       "    </tr>\n",
       "    <tr>\n",
       "      <th>mean</th>\n",
       "      <td>764.222755</td>\n",
       "      <td>51.002056</td>\n",
       "      <td>4.514845e+07</td>\n",
       "      <td>5.722748e+07</td>\n",
       "      <td>1.434019e+08</td>\n",
       "      <td>2013.849897</td>\n",
       "      <td>107.643592</td>\n",
       "      <td>6.279918</td>\n",
       "      <td>1.178483e+05</td>\n",
       "      <td>9.825348e+07</td>\n",
       "      <td>270.845782</td>\n",
       "    </tr>\n",
       "    <tr>\n",
       "      <th>std</th>\n",
       "      <td>445.325159</td>\n",
       "      <td>28.650357</td>\n",
       "      <td>5.645823e+07</td>\n",
       "      <td>8.533742e+07</td>\n",
       "      <td>2.353639e+08</td>\n",
       "      <td>2.568423</td>\n",
       "      <td>17.905381</td>\n",
       "      <td>1.065683</td>\n",
       "      <td>1.652269e+05</td>\n",
       "      <td>1.941656e+08</td>\n",
       "      <td>1217.930455</td>\n",
       "    </tr>\n",
       "    <tr>\n",
       "      <th>min</th>\n",
       "      <td>0.000000</td>\n",
       "      <td>1.000000</td>\n",
       "      <td>1.500000e+04</td>\n",
       "      <td>0.000000e+00</td>\n",
       "      <td>0.000000e+00</td>\n",
       "      <td>2010.000000</td>\n",
       "      <td>5.000000</td>\n",
       "      <td>1.600000</td>\n",
       "      <td>5.000000e+00</td>\n",
       "      <td>-2.002376e+08</td>\n",
       "      <td>-100.000000</td>\n",
       "    </tr>\n",
       "    <tr>\n",
       "      <th>25%</th>\n",
       "      <td>379.500000</td>\n",
       "      <td>26.000000</td>\n",
       "      <td>8.000000e+06</td>\n",
       "      <td>3.407679e+06</td>\n",
       "      <td>8.584449e+06</td>\n",
       "      <td>2012.000000</td>\n",
       "      <td>95.000000</td>\n",
       "      <td>5.700000</td>\n",
       "      <td>1.604650e+04</td>\n",
       "      <td>-6.024910e+05</td>\n",
       "      <td>-24.934980</td>\n",
       "    </tr>\n",
       "    <tr>\n",
       "      <th>50%</th>\n",
       "      <td>759.000000</td>\n",
       "      <td>51.000000</td>\n",
       "      <td>2.400000e+07</td>\n",
       "      <td>2.884224e+07</td>\n",
       "      <td>5.410422e+07</td>\n",
       "      <td>2014.000000</td>\n",
       "      <td>105.000000</td>\n",
       "      <td>6.400000</td>\n",
       "      <td>6.051000e+04</td>\n",
       "      <td>2.415403e+07</td>\n",
       "      <td>114.289910</td>\n",
       "    </tr>\n",
       "    <tr>\n",
       "      <th>75%</th>\n",
       "      <td>1148.500000</td>\n",
       "      <td>76.000000</td>\n",
       "      <td>5.775000e+07</td>\n",
       "      <td>6.933391e+07</td>\n",
       "      <td>1.625140e+08</td>\n",
       "      <td>2016.000000</td>\n",
       "      <td>118.000000</td>\n",
       "      <td>7.000000</td>\n",
       "      <td>1.450510e+05</td>\n",
       "      <td>1.086465e+08</td>\n",
       "      <td>301.708344</td>\n",
       "    </tr>\n",
       "    <tr>\n",
       "      <th>max</th>\n",
       "      <td>1546.000000</td>\n",
       "      <td>100.000000</td>\n",
       "      <td>4.106000e+08</td>\n",
       "      <td>7.000596e+08</td>\n",
       "      <td>2.048134e+09</td>\n",
       "      <td>2019.000000</td>\n",
       "      <td>180.000000</td>\n",
       "      <td>8.800000</td>\n",
       "      <td>1.841066e+06</td>\n",
       "      <td>1.748134e+09</td>\n",
       "      <td>41556.474000</td>\n",
       "    </tr>\n",
       "  </tbody>\n",
       "</table>\n",
       "</div>"
      ],
      "text/plain": [
       "        Unnamed: 0           id  production_budget  domestic_gross  \\\n",
       "count  1459.000000  1459.000000       1.459000e+03    1.459000e+03   \n",
       "mean    764.222755    51.002056       4.514845e+07    5.722748e+07   \n",
       "std     445.325159    28.650357       5.645823e+07    8.533742e+07   \n",
       "min       0.000000     1.000000       1.500000e+04    0.000000e+00   \n",
       "25%     379.500000    26.000000       8.000000e+06    3.407679e+06   \n",
       "50%     759.000000    51.000000       2.400000e+07    2.884224e+07   \n",
       "75%    1148.500000    76.000000       5.775000e+07    6.933391e+07   \n",
       "max    1546.000000   100.000000       4.106000e+08    7.000596e+08   \n",
       "\n",
       "       worldwide_gross         year  runtime_minutes  averagerating  \\\n",
       "count     1.459000e+03  1459.000000      1459.000000    1459.000000   \n",
       "mean      1.434019e+08  2013.849897       107.643592       6.279918   \n",
       "std       2.353639e+08     2.568423        17.905381       1.065683   \n",
       "min       0.000000e+00  2010.000000         5.000000       1.600000   \n",
       "25%       8.584449e+06  2012.000000        95.000000       5.700000   \n",
       "50%       5.410422e+07  2014.000000       105.000000       6.400000   \n",
       "75%       1.625140e+08  2016.000000       118.000000       7.000000   \n",
       "max       2.048134e+09  2019.000000       180.000000       8.800000   \n",
       "\n",
       "           numvotes        profit           ROI  \n",
       "count  1.459000e+03  1.459000e+03   1459.000000  \n",
       "mean   1.178483e+05  9.825348e+07    270.845782  \n",
       "std    1.652269e+05  1.941656e+08   1217.930455  \n",
       "min    5.000000e+00 -2.002376e+08   -100.000000  \n",
       "25%    1.604650e+04 -6.024910e+05    -24.934980  \n",
       "50%    6.051000e+04  2.415403e+07    114.289910  \n",
       "75%    1.450510e+05  1.086465e+08    301.708344  \n",
       "max    1.841066e+06  1.748134e+09  41556.474000  "
      ]
     },
     "execution_count": 12,
     "metadata": {},
     "output_type": "execute_result"
    }
   ],
   "source": [
    "df.describe()"
   ]
  },
  {
   "cell_type": "code",
   "execution_count": 13,
   "metadata": {},
   "outputs": [
    {
     "data": {
      "image/png": "[encoded data removed]",
      "text/plain": [
       "<Figure size 432x288 with 1 Axes>"
      ]
     },
     "metadata": {
      "needs_background": "light"
     },
     "output_type": "display_data"
    }
   ],
   "source": [
    "df['worldwide_gross'].plot(kind='box');"
   ]
  },
  {
   "cell_type": "code",
   "execution_count": 14,
   "metadata": {},
   "outputs": [
    {
     "data": {
      "image/png": "[encoded data removed]",
      "text/plain": [
       "<Figure size 432x288 with 1 Axes>"
      ]
     },
     "metadata": {
      "needs_background": "light"
     },
     "output_type": "display_data"
    }
   ],
   "source": [
    "df['production_budget'].plot(kind='box');"
   ]
  },
  {
   "cell_type": "code",
   "execution_count": 15,
   "metadata": {},
   "outputs": [],
   "source": [
    "df['dom_revshare'] = df['domestic_gross'] / df['worldwide_gross'] * 100"
   ]
  },
  {
   "cell_type": "code",
   "execution_count": 16,
   "metadata": {},
   "outputs": [
    {
     "data": {
      "text/plain": [
       "count    1357.000000\n",
       "mean       51.051686\n",
       "std        27.328780\n",
       "min         0.000000\n",
       "25%        32.153920\n",
       "50%        48.718002\n",
       "75%        69.959945\n",
       "max       100.000000\n",
       "Name: dom_revshare, dtype: float64"
      ]
     },
     "execution_count": 16,
     "metadata": {},
     "output_type": "execute_result"
    }
   ],
   "source": [
    "df['dom_revshare'].describe()"
   ]
  },
  {
   "cell_type": "code",
   "execution_count": 17,
   "metadata": {},
   "outputs": [
    {
     "data": {
      "image/png": "[encoded data removed]",
      "text/plain": [
       "<Figure size 432x288 with 1 Axes>"
      ]
     },
     "metadata": {
      "needs_background": "light"
     },
     "output_type": "display_data"
    }
   ],
   "source": [
    "df['dom_revshare'].plot(kind='hist');"
   ]
  },
  {
   "cell_type": "code",
   "execution_count": 18,
   "metadata": {},
   "outputs": [
    {
     "data": {
      "image/png": "[encoded data removed]",
      "text/plain": [
       "<Figure size 432x288 with 1 Axes>"
      ]
     },
     "metadata": {
      "needs_background": "light"
     },
     "output_type": "display_data"
    }
   ],
   "source": [
    "df['domestic_gross'].plot(kind='box');"
   ]
  },
  {
   "cell_type": "code",
   "execution_count": 19,
   "metadata": {},
   "outputs": [
    {
     "data": {
      "text/plain": [
       "284"
      ]
     },
     "execution_count": 19,
     "metadata": {},
     "output_type": "execute_result"
    }
   ],
   "source": [
    "df['numvotes'].loc[df['numvotes']<10000].count()"
   ]
  },
  {
   "cell_type": "code",
   "execution_count": 20,
   "metadata": {},
   "outputs": [
    {
     "data": {
      "text/plain": [
       "103"
      ]
     },
     "execution_count": 20,
     "metadata": {},
     "output_type": "execute_result"
    }
   ],
   "source": [
    "df['numvotes'].loc[df['numvotes']<1000].count()"
   ]
  },
  {
   "cell_type": "code",
   "execution_count": 21,
   "metadata": {},
   "outputs": [
    {
     "data": {
      "text/plain": [
       "26"
      ]
     },
     "execution_count": 21,
     "metadata": {},
     "output_type": "execute_result"
    }
   ],
   "source": [
    "df['numvotes'].loc[df['numvotes']<100].count()"
   ]
  },
  {
   "cell_type": "code",
   "execution_count": 22,
   "metadata": {},
   "outputs": [
    {
     "data": {
      "text/plain": [
       "399"
      ]
     },
     "execution_count": 22,
     "metadata": {},
     "output_type": "execute_result"
    }
   ],
   "source": [
    "df['production_budget'].loc[df['production_budget']<10000000].count()"
   ]
  },
  {
   "cell_type": "code",
   "execution_count": 23,
   "metadata": {},
   "outputs": [
    {
     "data": {
      "text/plain": [
       "378"
      ]
     },
     "execution_count": 23,
     "metadata": {},
     "output_type": "execute_result"
    }
   ],
   "source": [
    "df['worldwide_gross'].loc[df['worldwide_gross']<10000000].count()"
   ]
  },
  {
   "cell_type": "code",
   "execution_count": 24,
   "metadata": {},
   "outputs": [
    {
     "data": {
      "text/plain": [
       "180"
      ]
     },
     "execution_count": 24,
     "metadata": {},
     "output_type": "execute_result"
    }
   ],
   "source": [
    "df['runtime_minutes'].loc[df['runtime_minutes']<90].count()"
   ]
  },
  {
   "cell_type": "code",
   "execution_count": 25,
   "metadata": {},
   "outputs": [
    {
     "data": {
      "text/plain": [
       "11"
      ]
     },
     "execution_count": 25,
     "metadata": {},
     "output_type": "execute_result"
    }
   ],
   "source": [
    "df['runtime_minutes'].loc[df['runtime_minutes']<75].count()"
   ]
  },
  {
   "cell_type": "code",
   "execution_count": 26,
   "metadata": {},
   "outputs": [
    {
     "data": {
      "image/png": "[encoded data removed]",
      "text/plain": [
       "<Figure size 432x288 with 1 Axes>"
      ]
     },
     "metadata": {
      "needs_background": "light"
     },
     "output_type": "display_data"
    }
   ],
   "source": [
    "df['profit'].plot(kind='box');"
   ]
  },
  {
   "cell_type": "code",
   "execution_count": 27,
   "metadata": {},
   "outputs": [
    {
     "data": {
      "image/png": "[encoded data removed]",
      "text/plain": [
       "<Figure size 432x288 with 1 Axes>"
      ]
     },
     "metadata": {
      "needs_background": "light"
     },
     "output_type": "display_data"
    }
   ],
   "source": [
    "df['ROI'].plot(kind='box');"
   ]
  },
  {
   "cell_type": "code",
   "execution_count": 28,
   "metadata": {},
   "outputs": [
    {
     "data": {
      "text/plain": [
       "count    1.459000e+03\n",
       "mean     9.825348e+07\n",
       "std      1.941656e+08\n",
       "min     -2.002376e+08\n",
       "25%     -6.024910e+05\n",
       "50%      2.415403e+07\n",
       "75%      1.086465e+08\n",
       "max      1.748134e+09\n",
       "Name: profit, dtype: float64"
      ]
     },
     "execution_count": 28,
     "metadata": {},
     "output_type": "execute_result"
    }
   ],
   "source": [
    "df['profit'].describe()"
   ]
  },
  {
   "cell_type": "code",
   "execution_count": 29,
   "metadata": {},
   "outputs": [
    {
     "data": {
      "text/plain": [
       "count     1459.000000\n",
       "mean       270.845782\n",
       "std       1217.930455\n",
       "min       -100.000000\n",
       "25%        -24.934980\n",
       "50%        114.289910\n",
       "75%        301.708344\n",
       "max      41556.474000\n",
       "Name: ROI, dtype: float64"
      ]
     },
     "execution_count": 29,
     "metadata": {},
     "output_type": "execute_result"
    }
   ],
   "source": [
    "df['ROI'].describe()"
   ]
  },
  {
   "cell_type": "code",
   "execution_count": 30,
   "metadata": {},
   "outputs": [],
   "source": [
    "df_filtered = df.loc[(df['production_budget'] >= 10000000) & (df['runtime_minutes'] >= 75) & (df['numvotes'] >= 1000)]"
   ]
  },
  {
   "cell_type": "code",
   "execution_count": 31,
   "metadata": {},
   "outputs": [
    {
     "name": "stdout",
     "output_type": "stream",
     "text": [
      "<class 'pandas.core.frame.DataFrame'>\n",
      "Int64Index: 1050 entries, 0 to 1059\n",
      "Data columns (total 17 columns):\n",
      " #   Column             Non-Null Count  Dtype  \n",
      "---  ------             --------------  -----  \n",
      " 0   Unnamed: 0         1050 non-null   int64  \n",
      " 1   id                 1050 non-null   int64  \n",
      " 2   release_date       1050 non-null   object \n",
      " 3   movie              1050 non-null   object \n",
      " 4   production_budget  1050 non-null   int64  \n",
      " 5   domestic_gross     1050 non-null   int64  \n",
      " 6   worldwide_gross    1050 non-null   int64  \n",
      " 7   year               1050 non-null   int64  \n",
      " 8   movie_id           1050 non-null   object \n",
      " 9   original_title     1050 non-null   object \n",
      " 10  runtime_minutes    1050 non-null   float64\n",
      " 11  genres             1050 non-null   object \n",
      " 12  averagerating      1050 non-null   float64\n",
      " 13  numvotes           1050 non-null   float64\n",
      " 14  profit             1050 non-null   int64  \n",
      " 15  ROI                1050 non-null   float64\n",
      " 16  dom_revshare       1043 non-null   float64\n",
      "dtypes: float64(5), int64(7), object(5)\n",
      "memory usage: 147.7+ KB\n"
     ]
    }
   ],
   "source": [
    "df_filtered.info()"
   ]
  },
  {
   "cell_type": "code",
   "execution_count": 32,
   "metadata": {},
   "outputs": [],
   "source": [
    "df_top100_profit = df_filtered.nlargest(100,'profit')"
   ]
  },
  {
   "cell_type": "code",
   "execution_count": 33,
   "metadata": {},
   "outputs": [
    {
     "data": {
      "text/html": [
       "<div>\n",
       "<style scoped>\n",
       "    .dataframe tbody tr th:only-of-type {\n",
       "        vertical-align: middle;\n",
       "    }\n",
       "\n",
       "    .dataframe tbody tr th {\n",
       "        vertical-align: top;\n",
       "    }\n",
       "\n",
       "    .dataframe thead th {\n",
       "        text-align: right;\n",
       "    }\n",
       "</style>\n",
       "<table border=\"1\" class=\"dataframe\">\n",
       "  <thead>\n",
       "    <tr style=\"text-align: right;\">\n",
       "      <th></th>\n",
       "      <th>Unnamed: 0</th>\n",
       "      <th>id</th>\n",
       "      <th>production_budget</th>\n",
       "      <th>domestic_gross</th>\n",
       "      <th>worldwide_gross</th>\n",
       "      <th>year</th>\n",
       "      <th>runtime_minutes</th>\n",
       "      <th>averagerating</th>\n",
       "      <th>numvotes</th>\n",
       "      <th>profit</th>\n",
       "      <th>ROI</th>\n",
       "      <th>dom_revshare</th>\n",
       "    </tr>\n",
       "  </thead>\n",
       "  <tbody>\n",
       "    <tr>\n",
       "      <th>count</th>\n",
       "      <td>100.000000</td>\n",
       "      <td>100.000000</td>\n",
       "      <td>1.000000e+02</td>\n",
       "      <td>1.000000e+02</td>\n",
       "      <td>1.000000e+02</td>\n",
       "      <td>100.000000</td>\n",
       "      <td>100.000000</td>\n",
       "      <td>100.00000</td>\n",
       "      <td>1.000000e+02</td>\n",
       "      <td>1.000000e+02</td>\n",
       "      <td>100.000000</td>\n",
       "      <td>100.000000</td>\n",
       "    </tr>\n",
       "    <tr>\n",
       "      <th>mean</th>\n",
       "      <td>135.760000</td>\n",
       "      <td>45.920000</td>\n",
       "      <td>1.591220e+08</td>\n",
       "      <td>2.988537e+08</td>\n",
       "      <td>8.543273e+08</td>\n",
       "      <td>2014.460000</td>\n",
       "      <td>123.290000</td>\n",
       "      <td>7.21800</td>\n",
       "      <td>4.375363e+05</td>\n",
       "      <td>6.952053e+08</td>\n",
       "      <td>540.161914</td>\n",
       "      <td>35.124464</td>\n",
       "    </tr>\n",
       "    <tr>\n",
       "      <th>std</th>\n",
       "      <td>139.380456</td>\n",
       "      <td>27.019514</td>\n",
       "      <td>6.838104e+07</td>\n",
       "      <td>1.225885e+08</td>\n",
       "      <td>2.845762e+08</td>\n",
       "      <td>2.512273</td>\n",
       "      <td>20.948853</td>\n",
       "      <td>0.76282</td>\n",
       "      <td>2.814238e+05</td>\n",
       "      <td>2.554280e+08</td>\n",
       "      <td>355.385230</td>\n",
       "      <td>8.767547</td>\n",
       "    </tr>\n",
       "    <tr>\n",
       "      <th>min</th>\n",
       "      <td>0.000000</td>\n",
       "      <td>2.000000</td>\n",
       "      <td>2.000000e+07</td>\n",
       "      <td>1.249870e+08</td>\n",
       "      <td>4.263512e+08</td>\n",
       "      <td>2010.000000</td>\n",
       "      <td>87.000000</td>\n",
       "      <td>4.10000</td>\n",
       "      <td>4.229900e+04</td>\n",
       "      <td>3.979383e+08</td>\n",
       "      <td>154.667286</td>\n",
       "      <td>18.282824</td>\n",
       "    </tr>\n",
       "    <tr>\n",
       "      <th>25%</th>\n",
       "      <td>34.500000</td>\n",
       "      <td>24.750000</td>\n",
       "      <td>1.145000e+08</td>\n",
       "      <td>2.126414e+08</td>\n",
       "      <td>6.478907e+08</td>\n",
       "      <td>2012.000000</td>\n",
       "      <td>105.000000</td>\n",
       "      <td>6.70000</td>\n",
       "      <td>2.437018e+05</td>\n",
       "      <td>5.012625e+08</td>\n",
       "      <td>321.116074</td>\n",
       "      <td>28.920887</td>\n",
       "    </tr>\n",
       "    <tr>\n",
       "      <th>50%</th>\n",
       "      <td>91.500000</td>\n",
       "      <td>41.500000</td>\n",
       "      <td>1.650000e+08</td>\n",
       "      <td>2.665563e+08</td>\n",
       "      <td>7.787740e+08</td>\n",
       "      <td>2014.500000</td>\n",
       "      <td>127.500000</td>\n",
       "      <td>7.30000</td>\n",
       "      <td>3.859045e+05</td>\n",
       "      <td>6.199516e+08</td>\n",
       "      <td>413.931836</td>\n",
       "      <td>34.515661</td>\n",
       "    </tr>\n",
       "    <tr>\n",
       "      <th>75%</th>\n",
       "      <td>184.000000</td>\n",
       "      <td>64.500000</td>\n",
       "      <td>2.000000e+08</td>\n",
       "      <td>3.538707e+08</td>\n",
       "      <td>1.022284e+09</td>\n",
       "      <td>2016.250000</td>\n",
       "      <td>137.000000</td>\n",
       "      <td>7.80000</td>\n",
       "      <td>5.458145e+05</td>\n",
       "      <td>8.422647e+08</td>\n",
       "      <td>633.781968</td>\n",
       "      <td>41.110978</td>\n",
       "    </tr>\n",
       "    <tr>\n",
       "      <th>max</th>\n",
       "      <td>799.000000</td>\n",
       "      <td>100.000000</td>\n",
       "      <td>4.106000e+08</td>\n",
       "      <td>7.000596e+08</td>\n",
       "      <td>2.048134e+09</td>\n",
       "      <td>2019.000000</td>\n",
       "      <td>169.000000</td>\n",
       "      <td>8.80000</td>\n",
       "      <td>1.841066e+06</td>\n",
       "      <td>1.748134e+09</td>\n",
       "      <td>2031.755815</td>\n",
       "      <td>63.970309</td>\n",
       "    </tr>\n",
       "  </tbody>\n",
       "</table>\n",
       "</div>"
      ],
      "text/plain": [
       "       Unnamed: 0          id  production_budget  domestic_gross  \\\n",
       "count  100.000000  100.000000       1.000000e+02    1.000000e+02   \n",
       "mean   135.760000   45.920000       1.591220e+08    2.988537e+08   \n",
       "std    139.380456   27.019514       6.838104e+07    1.225885e+08   \n",
       "min      0.000000    2.000000       2.000000e+07    1.249870e+08   \n",
       "25%     34.500000   24.750000       1.145000e+08    2.126414e+08   \n",
       "50%     91.500000   41.500000       1.650000e+08    2.665563e+08   \n",
       "75%    184.000000   64.500000       2.000000e+08    3.538707e+08   \n",
       "max    799.000000  100.000000       4.106000e+08    7.000596e+08   \n",
       "\n",
       "       worldwide_gross         year  runtime_minutes  averagerating  \\\n",
       "count     1.000000e+02   100.000000       100.000000      100.00000   \n",
       "mean      8.543273e+08  2014.460000       123.290000        7.21800   \n",
       "std       2.845762e+08     2.512273        20.948853        0.76282   \n",
       "min       4.263512e+08  2010.000000        87.000000        4.10000   \n",
       "25%       6.478907e+08  2012.000000       105.000000        6.70000   \n",
       "50%       7.787740e+08  2014.500000       127.500000        7.30000   \n",
       "75%       1.022284e+09  2016.250000       137.000000        7.80000   \n",
       "max       2.048134e+09  2019.000000       169.000000        8.80000   \n",
       "\n",
       "           numvotes        profit          ROI  dom_revshare  \n",
       "count  1.000000e+02  1.000000e+02   100.000000    100.000000  \n",
       "mean   4.375363e+05  6.952053e+08   540.161914     35.124464  \n",
       "std    2.814238e+05  2.554280e+08   355.385230      8.767547  \n",
       "min    4.229900e+04  3.979383e+08   154.667286     18.282824  \n",
       "25%    2.437018e+05  5.012625e+08   321.116074     28.920887  \n",
       "50%    3.859045e+05  6.199516e+08   413.931836     34.515661  \n",
       "75%    5.458145e+05  8.422647e+08   633.781968     41.110978  \n",
       "max    1.841066e+06  1.748134e+09  2031.755815     63.970309  "
      ]
     },
     "execution_count": 33,
     "metadata": {},
     "output_type": "execute_result"
    }
   ],
   "source": [
    "df_top100_profit.describe()"
   ]
  },
  {
   "cell_type": "code",
   "execution_count": 34,
   "metadata": {},
   "outputs": [
    {
     "data": {
      "text/html": [
       "<div>\n",
       "<style scoped>\n",
       "    .dataframe tbody tr th:only-of-type {\n",
       "        vertical-align: middle;\n",
       "    }\n",
       "\n",
       "    .dataframe tbody tr th {\n",
       "        vertical-align: top;\n",
       "    }\n",
       "\n",
       "    .dataframe thead th {\n",
       "        text-align: right;\n",
       "    }\n",
       "</style>\n",
       "<table border=\"1\" class=\"dataframe\">\n",
       "  <thead>\n",
       "    <tr style=\"text-align: right;\">\n",
       "      <th></th>\n",
       "      <th>Unnamed: 0</th>\n",
       "      <th>id</th>\n",
       "      <th>production_budget</th>\n",
       "      <th>domestic_gross</th>\n",
       "      <th>worldwide_gross</th>\n",
       "      <th>year</th>\n",
       "      <th>runtime_minutes</th>\n",
       "      <th>averagerating</th>\n",
       "      <th>numvotes</th>\n",
       "      <th>profit</th>\n",
       "      <th>ROI</th>\n",
       "      <th>dom_revshare</th>\n",
       "    </tr>\n",
       "  </thead>\n",
       "  <tbody>\n",
       "    <tr>\n",
       "      <th>count</th>\n",
       "      <td>1050.000000</td>\n",
       "      <td>1050.000000</td>\n",
       "      <td>1.050000e+03</td>\n",
       "      <td>1.050000e+03</td>\n",
       "      <td>1.050000e+03</td>\n",
       "      <td>1050.000000</td>\n",
       "      <td>1050.000000</td>\n",
       "      <td>1050.000000</td>\n",
       "      <td>1.050000e+03</td>\n",
       "      <td>1.050000e+03</td>\n",
       "      <td>1050.000000</td>\n",
       "      <td>1043.000000</td>\n",
       "    </tr>\n",
       "    <tr>\n",
       "      <th>mean</th>\n",
       "      <td>550.477143</td>\n",
       "      <td>51.065714</td>\n",
       "      <td>6.106943e+07</td>\n",
       "      <td>7.616547e+07</td>\n",
       "      <td>1.928161e+08</td>\n",
       "      <td>2013.914286</td>\n",
       "      <td>111.234286</td>\n",
       "      <td>6.413048</td>\n",
       "      <td>1.503718e+05</td>\n",
       "      <td>1.317467e+08</td>\n",
       "      <td>213.573901</td>\n",
       "      <td>48.570617</td>\n",
       "    </tr>\n",
       "    <tr>\n",
       "      <th>std</th>\n",
       "      <td>320.493334</td>\n",
       "      <td>28.443453</td>\n",
       "      <td>5.910363e+07</td>\n",
       "      <td>9.330426e+07</td>\n",
       "      <td>2.601794e+08</td>\n",
       "      <td>2.638406</td>\n",
       "      <td>17.018925</td>\n",
       "      <td>0.942529</td>\n",
       "      <td>1.803414e+05</td>\n",
       "      <td>2.188376e+08</td>\n",
       "      <td>310.786432</td>\n",
       "      <td>23.608696</td>\n",
       "    </tr>\n",
       "    <tr>\n",
       "      <th>min</th>\n",
       "      <td>0.000000</td>\n",
       "      <td>1.000000</td>\n",
       "      <td>1.000000e+07</td>\n",
       "      <td>0.000000e+00</td>\n",
       "      <td>0.000000e+00</td>\n",
       "      <td>2010.000000</td>\n",
       "      <td>80.000000</td>\n",
       "      <td>1.600000</td>\n",
       "      <td>1.024000e+03</td>\n",
       "      <td>-2.002376e+08</td>\n",
       "      <td>-100.000000</td>\n",
       "      <td>0.000000</td>\n",
       "    </tr>\n",
       "    <tr>\n",
       "      <th>25%</th>\n",
       "      <td>278.250000</td>\n",
       "      <td>27.000000</td>\n",
       "      <td>2.000000e+07</td>\n",
       "      <td>1.913563e+07</td>\n",
       "      <td>3.639269e+07</td>\n",
       "      <td>2012.000000</td>\n",
       "      <td>99.000000</td>\n",
       "      <td>5.800000</td>\n",
       "      <td>3.864675e+04</td>\n",
       "      <td>7.306083e+06</td>\n",
       "      <td>19.899827</td>\n",
       "      <td>32.135167</td>\n",
       "    </tr>\n",
       "    <tr>\n",
       "      <th>50%</th>\n",
       "      <td>547.500000</td>\n",
       "      <td>51.000000</td>\n",
       "      <td>3.700000e+07</td>\n",
       "      <td>4.498308e+07</td>\n",
       "      <td>9.337879e+07</td>\n",
       "      <td>2014.000000</td>\n",
       "      <td>109.000000</td>\n",
       "      <td>6.500000</td>\n",
       "      <td>8.952150e+04</td>\n",
       "      <td>5.179730e+07</td>\n",
       "      <td>137.007215</td>\n",
       "      <td>45.412244</td>\n",
       "    </tr>\n",
       "    <tr>\n",
       "      <th>75%</th>\n",
       "      <td>824.750000</td>\n",
       "      <td>76.000000</td>\n",
       "      <td>8.000000e+07</td>\n",
       "      <td>9.526582e+07</td>\n",
       "      <td>2.295847e+08</td>\n",
       "      <td>2016.000000</td>\n",
       "      <td>121.000000</td>\n",
       "      <td>7.100000</td>\n",
       "      <td>1.922018e+05</td>\n",
       "      <td>1.553345e+08</td>\n",
       "      <td>300.122751</td>\n",
       "      <td>63.820454</td>\n",
       "    </tr>\n",
       "    <tr>\n",
       "      <th>max</th>\n",
       "      <td>1113.000000</td>\n",
       "      <td>100.000000</td>\n",
       "      <td>4.106000e+08</td>\n",
       "      <td>7.000596e+08</td>\n",
       "      <td>2.048134e+09</td>\n",
       "      <td>2019.000000</td>\n",
       "      <td>180.000000</td>\n",
       "      <td>8.800000</td>\n",
       "      <td>1.841066e+06</td>\n",
       "      <td>1.748134e+09</td>\n",
       "      <td>2459.723617</td>\n",
       "      <td>100.000000</td>\n",
       "    </tr>\n",
       "  </tbody>\n",
       "</table>\n",
       "</div>"
      ],
      "text/plain": [
       "        Unnamed: 0           id  production_budget  domestic_gross  \\\n",
       "count  1050.000000  1050.000000       1.050000e+03    1.050000e+03   \n",
       "mean    550.477143    51.065714       6.106943e+07    7.616547e+07   \n",
       "std     320.493334    28.443453       5.910363e+07    9.330426e+07   \n",
       "min       0.000000     1.000000       1.000000e+07    0.000000e+00   \n",
       "25%     278.250000    27.000000       2.000000e+07    1.913563e+07   \n",
       "50%     547.500000    51.000000       3.700000e+07    4.498308e+07   \n",
       "75%     824.750000    76.000000       8.000000e+07    9.526582e+07   \n",
       "max    1113.000000   100.000000       4.106000e+08    7.000596e+08   \n",
       "\n",
       "       worldwide_gross         year  runtime_minutes  averagerating  \\\n",
       "count     1.050000e+03  1050.000000      1050.000000    1050.000000   \n",
       "mean      1.928161e+08  2013.914286       111.234286       6.413048   \n",
       "std       2.601794e+08     2.638406        17.018925       0.942529   \n",
       "min       0.000000e+00  2010.000000        80.000000       1.600000   \n",
       "25%       3.639269e+07  2012.000000        99.000000       5.800000   \n",
       "50%       9.337879e+07  2014.000000       109.000000       6.500000   \n",
       "75%       2.295847e+08  2016.000000       121.000000       7.100000   \n",
       "max       2.048134e+09  2019.000000       180.000000       8.800000   \n",
       "\n",
       "           numvotes        profit          ROI  dom_revshare  \n",
       "count  1.050000e+03  1.050000e+03  1050.000000   1043.000000  \n",
       "mean   1.503718e+05  1.317467e+08   213.573901     48.570617  \n",
       "std    1.803414e+05  2.188376e+08   310.786432     23.608696  \n",
       "min    1.024000e+03 -2.002376e+08  -100.000000      0.000000  \n",
       "25%    3.864675e+04  7.306083e+06    19.899827     32.135167  \n",
       "50%    8.952150e+04  5.179730e+07   137.007215     45.412244  \n",
       "75%    1.922018e+05  1.553345e+08   300.122751     63.820454  \n",
       "max    1.841066e+06  1.748134e+09  2459.723617    100.000000  "
      ]
     },
     "execution_count": 34,
     "metadata": {},
     "output_type": "execute_result"
    }
   ],
   "source": [
    "df_filtered.describe()"
   ]
  },
  {
   "cell_type": "code",
   "execution_count": 35,
   "metadata": {},
   "outputs": [
    {
     "data": {
      "text/plain": [
       "Unnamed: 0          -4.147171e+02\n",
       "id                  -5.145714e+00\n",
       "production_budget    9.805257e+07\n",
       "domestic_gross       2.226882e+08\n",
       "worldwide_gross      6.615111e+08\n",
       "year                 5.457143e-01\n",
       "runtime_minutes      1.205571e+01\n",
       "averagerating        8.049524e-01\n",
       "numvotes             2.871645e+05\n",
       "profit               5.634586e+08\n",
       "ROI                  3.265880e+02\n",
       "dom_revshare        -1.344615e+01\n",
       "dtype: float64"
      ]
     },
     "execution_count": 35,
     "metadata": {},
     "output_type": "execute_result"
    }
   ],
   "source": [
    "df_top100_profit.mean() - df_filtered.mean()"
   ]
  },
  {
   "cell_type": "code",
   "execution_count": 36,
   "metadata": {},
   "outputs": [
    {
     "data": {
      "text/plain": [
       "genres\n",
       "Action,Adventure,Sci-Fi       0.25\n",
       "Adventure,Animation,Comedy    0.17\n",
       "Action,Adventure,Fantasy      0.08\n",
       "Action,Adventure,Comedy       0.07\n",
       "Action,Adventure,Animation    0.06\n",
       "Adventure,Family,Fantasy      0.04\n",
       "Action,Crime,Thriller         0.03\n",
       "Action,Adventure,Thriller     0.02\n",
       "Adventure,Drama,Fantasy       0.02\n",
       "Adventure,Drama,Sci-Fi        0.02\n",
       "Animation,Comedy,Family       0.02\n",
       "Adventure,Fantasy             0.02\n",
       "Action,Sci-Fi,Thriller        0.02\n",
       "Action,Drama,Sci-Fi           0.01\n",
       "Action,Adventure,Family       0.01\n",
       "Action,Adventure,Drama        0.01\n",
       "Action,Biography,Drama        0.01\n",
       "Action,Adventure,Crime        0.01\n",
       "Action,Adventure,Biography    0.01\n",
       "Horror,Thriller               0.01\n",
       "Action,Thriller               0.01\n",
       "Family,Fantasy,Musical        0.01\n",
       "Adventure,Drama,Family        0.01\n",
       "Biography,Drama,Music         0.01\n",
       "Comedy,Drama,Music            0.01\n",
       "Comedy,Fantasy                0.01\n",
       "Comedy,Mystery                0.01\n",
       "Drama,Family,Fantasy          0.01\n",
       "Drama,Romance,Thriller        0.01\n",
       "Drama,Sci-Fi,Thriller         0.01\n",
       "Adventure,Comedy,Family       0.01\n",
       "dtype: float64"
      ]
     },
     "execution_count": 36,
     "metadata": {},
     "output_type": "execute_result"
    }
   ],
   "source": [
    "df_top100_profit.value_counts('genres',normalize = True)"
   ]
  },
  {
   "cell_type": "code",
   "execution_count": 106,
   "metadata": {},
   "outputs": [
    {
     "data": {
      "image/png": "[encoded data removed]",
      "text/plain": [
       "<Figure size 432x288 with 1 Axes>"
      ]
     },
     "metadata": {
      "needs_background": "light"
     },
     "output_type": "display_data"
    }
   ],
   "source": [
    "df_top100_profit.value_counts('genres',normalize = True)[0:10].plot(kind='bar');"
   ]
  },
  {
   "cell_type": "code",
   "execution_count": 37,
   "metadata": {},
   "outputs": [
    {
     "data": {
      "text/plain": [
       "genres\n",
       "Adventure,Animation,Comedy    0.062857\n",
       "Action,Adventure,Sci-Fi       0.048571\n",
       "Comedy                        0.038095\n",
       "Comedy,Romance                0.030476\n",
       "Action,Crime,Drama            0.030476\n",
       "                                ...   \n",
       "Comedy,Drama,Mystery          0.000952\n",
       "Comedy,Drama,Sport            0.000952\n",
       "Comedy,Horror,Sci-Fi          0.000952\n",
       "Comedy,Music,War              0.000952\n",
       "Action                        0.000952\n",
       "Length: 187, dtype: float64"
      ]
     },
     "execution_count": 37,
     "metadata": {},
     "output_type": "execute_result"
    }
   ],
   "source": [
    "df_filtered.value_counts('genres',normalize = True)"
   ]
  },
  {
   "cell_type": "code",
   "execution_count": 38,
   "metadata": {},
   "outputs": [
    {
     "data": {
      "image/png": "[encoded data removed]",
      "text/plain": [
       "<Figure size 432x288 with 1 Axes>"
      ]
     },
     "metadata": {
      "needs_background": "light"
     },
     "output_type": "display_data"
    }
   ],
   "source": [
    "df_top100_profit.groupby('genres')['profit'].mean()[0:15].sort_values().plot(kind='barh');"
   ]
  },
  {
   "cell_type": "code",
   "execution_count": 39,
   "metadata": {},
   "outputs": [],
   "source": [
    "df_top100_roi = df_filtered.nlargest(100,'ROI')"
   ]
  },
  {
   "cell_type": "code",
   "execution_count": 40,
   "metadata": {},
   "outputs": [
    {
     "data": {
      "text/html": [
       "<div>\n",
       "<style scoped>\n",
       "    .dataframe tbody tr th:only-of-type {\n",
       "        vertical-align: middle;\n",
       "    }\n",
       "\n",
       "    .dataframe tbody tr th {\n",
       "        vertical-align: top;\n",
       "    }\n",
       "\n",
       "    .dataframe thead th {\n",
       "        text-align: right;\n",
       "    }\n",
       "</style>\n",
       "<table border=\"1\" class=\"dataframe\">\n",
       "  <thead>\n",
       "    <tr style=\"text-align: right;\">\n",
       "      <th></th>\n",
       "      <th>Unnamed: 0</th>\n",
       "      <th>id</th>\n",
       "      <th>production_budget</th>\n",
       "      <th>domestic_gross</th>\n",
       "      <th>worldwide_gross</th>\n",
       "      <th>year</th>\n",
       "      <th>runtime_minutes</th>\n",
       "      <th>averagerating</th>\n",
       "      <th>numvotes</th>\n",
       "      <th>profit</th>\n",
       "      <th>ROI</th>\n",
       "      <th>dom_revshare</th>\n",
       "    </tr>\n",
       "  </thead>\n",
       "  <tbody>\n",
       "    <tr>\n",
       "      <th>count</th>\n",
       "      <td>100.000000</td>\n",
       "      <td>100.000000</td>\n",
       "      <td>1.000000e+02</td>\n",
       "      <td>1.000000e+02</td>\n",
       "      <td>1.000000e+02</td>\n",
       "      <td>100.000000</td>\n",
       "      <td>100.000000</td>\n",
       "      <td>100.000000</td>\n",
       "      <td>100.000000</td>\n",
       "      <td>1.000000e+02</td>\n",
       "      <td>100.000000</td>\n",
       "      <td>100.000000</td>\n",
       "    </tr>\n",
       "    <tr>\n",
       "      <th>mean</th>\n",
       "      <td>686.400000</td>\n",
       "      <td>52.880000</td>\n",
       "      <td>4.389000e+07</td>\n",
       "      <td>1.615563e+08</td>\n",
       "      <td>4.103454e+08</td>\n",
       "      <td>2014.740000</td>\n",
       "      <td>112.330000</td>\n",
       "      <td>6.835000</td>\n",
       "      <td>238216.400000</td>\n",
       "      <td>3.664554e+08</td>\n",
       "      <td>949.954436</td>\n",
       "      <td>45.041074</td>\n",
       "    </tr>\n",
       "    <tr>\n",
       "      <th>std</th>\n",
       "      <td>331.112725</td>\n",
       "      <td>26.545284</td>\n",
       "      <td>5.089232e+07</td>\n",
       "      <td>1.353349e+08</td>\n",
       "      <td>3.984576e+08</td>\n",
       "      <td>2.661434</td>\n",
       "      <td>17.483068</td>\n",
       "      <td>1.087057</td>\n",
       "      <td>179461.546678</td>\n",
       "      <td>3.506963e+08</td>\n",
       "      <td>421.856186</td>\n",
       "      <td>16.882833</td>\n",
       "    </tr>\n",
       "    <tr>\n",
       "      <th>min</th>\n",
       "      <td>3.000000</td>\n",
       "      <td>2.000000</td>\n",
       "      <td>1.000000e+07</td>\n",
       "      <td>8.178001e+06</td>\n",
       "      <td>6.822095e+07</td>\n",
       "      <td>2010.000000</td>\n",
       "      <td>84.000000</td>\n",
       "      <td>1.600000</td>\n",
       "      <td>18728.000000</td>\n",
       "      <td>5.822095e+07</td>\n",
       "      <td>575.182944</td>\n",
       "      <td>6.715480</td>\n",
       "    </tr>\n",
       "    <tr>\n",
       "      <th>25%</th>\n",
       "      <td>381.000000</td>\n",
       "      <td>34.750000</td>\n",
       "      <td>1.275000e+07</td>\n",
       "      <td>6.439624e+07</td>\n",
       "      <td>1.271130e+08</td>\n",
       "      <td>2012.000000</td>\n",
       "      <td>98.000000</td>\n",
       "      <td>6.300000</td>\n",
       "      <td>92035.500000</td>\n",
       "      <td>1.121130e+08</td>\n",
       "      <td>667.803545</td>\n",
       "      <td>32.533763</td>\n",
       "    </tr>\n",
       "    <tr>\n",
       "      <th>50%</th>\n",
       "      <td>800.500000</td>\n",
       "      <td>55.000000</td>\n",
       "      <td>2.000000e+07</td>\n",
       "      <td>1.162319e+08</td>\n",
       "      <td>2.545555e+08</td>\n",
       "      <td>2015.000000</td>\n",
       "      <td>110.000000</td>\n",
       "      <td>7.000000</td>\n",
       "      <td>187759.000000</td>\n",
       "      <td>2.321596e+08</td>\n",
       "      <td>804.418320</td>\n",
       "      <td>42.036576</td>\n",
       "    </tr>\n",
       "    <tr>\n",
       "      <th>75%</th>\n",
       "      <td>996.750000</td>\n",
       "      <td>71.500000</td>\n",
       "      <td>5.575000e+07</td>\n",
       "      <td>2.142094e+08</td>\n",
       "      <td>5.494989e+08</td>\n",
       "      <td>2017.000000</td>\n",
       "      <td>123.250000</td>\n",
       "      <td>7.700000</td>\n",
       "      <td>344092.750000</td>\n",
       "      <td>4.934989e+08</td>\n",
       "      <td>1076.917975</td>\n",
       "      <td>56.234656</td>\n",
       "    </tr>\n",
       "    <tr>\n",
       "      <th>max</th>\n",
       "      <td>1077.000000</td>\n",
       "      <td>100.000000</td>\n",
       "      <td>3.000000e+08</td>\n",
       "      <td>6.788155e+08</td>\n",
       "      <td>2.048134e+09</td>\n",
       "      <td>2019.000000</td>\n",
       "      <td>167.000000</td>\n",
       "      <td>8.500000</td>\n",
       "      <td>820847.000000</td>\n",
       "      <td>1.748134e+09</td>\n",
       "      <td>2459.723617</td>\n",
       "      <td>84.867107</td>\n",
       "    </tr>\n",
       "  </tbody>\n",
       "</table>\n",
       "</div>"
      ],
      "text/plain": [
       "        Unnamed: 0          id  production_budget  domestic_gross  \\\n",
       "count   100.000000  100.000000       1.000000e+02    1.000000e+02   \n",
       "mean    686.400000   52.880000       4.389000e+07    1.615563e+08   \n",
       "std     331.112725   26.545284       5.089232e+07    1.353349e+08   \n",
       "min       3.000000    2.000000       1.000000e+07    8.178001e+06   \n",
       "25%     381.000000   34.750000       1.275000e+07    6.439624e+07   \n",
       "50%     800.500000   55.000000       2.000000e+07    1.162319e+08   \n",
       "75%     996.750000   71.500000       5.575000e+07    2.142094e+08   \n",
       "max    1077.000000  100.000000       3.000000e+08    6.788155e+08   \n",
       "\n",
       "       worldwide_gross         year  runtime_minutes  averagerating  \\\n",
       "count     1.000000e+02   100.000000       100.000000     100.000000   \n",
       "mean      4.103454e+08  2014.740000       112.330000       6.835000   \n",
       "std       3.984576e+08     2.661434        17.483068       1.087057   \n",
       "min       6.822095e+07  2010.000000        84.000000       1.600000   \n",
       "25%       1.271130e+08  2012.000000        98.000000       6.300000   \n",
       "50%       2.545555e+08  2015.000000       110.000000       7.000000   \n",
       "75%       5.494989e+08  2017.000000       123.250000       7.700000   \n",
       "max       2.048134e+09  2019.000000       167.000000       8.500000   \n",
       "\n",
       "            numvotes        profit          ROI  dom_revshare  \n",
       "count     100.000000  1.000000e+02   100.000000    100.000000  \n",
       "mean   238216.400000  3.664554e+08   949.954436     45.041074  \n",
       "std    179461.546678  3.506963e+08   421.856186     16.882833  \n",
       "min     18728.000000  5.822095e+07   575.182944      6.715480  \n",
       "25%     92035.500000  1.121130e+08   667.803545     32.533763  \n",
       "50%    187759.000000  2.321596e+08   804.418320     42.036576  \n",
       "75%    344092.750000  4.934989e+08  1076.917975     56.234656  \n",
       "max    820847.000000  1.748134e+09  2459.723617     84.867107  "
      ]
     },
     "execution_count": 40,
     "metadata": {},
     "output_type": "execute_result"
    }
   ],
   "source": [
    "df_top100_roi.describe()"
   ]
  },
  {
   "cell_type": "code",
   "execution_count": 41,
   "metadata": {},
   "outputs": [
    {
     "data": {
      "text/plain": [
       "Unnamed: 0           1.359229e+02\n",
       "id                   1.814286e+00\n",
       "production_budget   -1.717943e+07\n",
       "domestic_gross       8.539079e+07\n",
       "worldwide_gross      2.175293e+08\n",
       "year                 8.257143e-01\n",
       "runtime_minutes      1.095714e+00\n",
       "averagerating        4.219524e-01\n",
       "numvotes             8.784458e+04\n",
       "profit               2.347087e+08\n",
       "ROI                  7.363805e+02\n",
       "dom_revshare        -3.529543e+00\n",
       "dtype: float64"
      ]
     },
     "execution_count": 41,
     "metadata": {},
     "output_type": "execute_result"
    }
   ],
   "source": [
    "df_top100_roi.mean() - df_filtered.mean()"
   ]
  },
  {
   "cell_type": "code",
   "execution_count": 42,
   "metadata": {},
   "outputs": [
    {
     "data": {
      "text/plain": [
       "Unnamed: 0           5.506400e+02\n",
       "id                   6.960000e+00\n",
       "production_budget   -1.152320e+08\n",
       "domestic_gross      -1.372974e+08\n",
       "worldwide_gross     -4.439818e+08\n",
       "year                 2.800000e-01\n",
       "runtime_minutes     -1.096000e+01\n",
       "averagerating       -3.830000e-01\n",
       "numvotes            -1.993199e+05\n",
       "profit              -3.287498e+08\n",
       "ROI                  4.097925e+02\n",
       "dom_revshare         9.916610e+00\n",
       "dtype: float64"
      ]
     },
     "execution_count": 42,
     "metadata": {},
     "output_type": "execute_result"
    }
   ],
   "source": [
    "df_top100_roi.mean() - df_top100_profit.mean()"
   ]
  },
  {
   "cell_type": "code",
   "execution_count": 43,
   "metadata": {
    "scrolled": false
   },
   "outputs": [
    {
     "data": {
      "text/plain": [
       "genres\n",
       "Adventure,Animation,Comedy    0.10\n",
       "Horror,Mystery,Thriller       0.06\n",
       "Comedy,Romance                0.05\n",
       "Comedy                        0.04\n",
       "Action,Adventure,Sci-Fi       0.04\n",
       "Horror,Thriller               0.03\n",
       "Comedy,Drama                  0.03\n",
       "Comedy,Drama,Romance          0.03\n",
       "Action,Sci-Fi,Thriller        0.03\n",
       "Biography,Drama,History       0.03\n",
       "Action,Adventure,Comedy       0.03\n",
       "Drama,Romance                 0.03\n",
       "Adventure,Drama,Fantasy       0.02\n",
       "Drama,Romance,Thriller        0.02\n",
       "Biography,Comedy,Drama        0.02\n",
       "Action,Horror,Sci-Fi          0.02\n",
       "Drama,Sci-Fi,Thriller         0.02\n",
       "Animation,Comedy,Family       0.02\n",
       "Comedy,Drama,Music            0.02\n",
       "Biography,Drama               0.01\n",
       "Action,Adventure,Drama        0.01\n",
       "Adventure,Drama,Western       0.01\n",
       "Action,Comedy,Documentary     0.01\n",
       "Action,Comedy,Drama           0.01\n",
       "Action,Thriller               0.01\n",
       "Action,Adventure,Fantasy      0.01\n",
       "Action,Biography,Drama        0.01\n",
       "Biography,Drama,Music         0.01\n",
       "Action,Drama,Family           0.01\n",
       "Action,Drama                  0.01\n",
       "Action,Crime,Thriller         0.01\n",
       "Action,Mystery,Sci-Fi         0.01\n",
       "Comedy,Crime                  0.01\n",
       "Biography,Drama,Romance       0.01\n",
       "Biography,Drama,Sport         0.01\n",
       "Family,Fantasy,Musical        0.01\n",
       "Drama,Thriller                0.01\n",
       "Drama,Horror,Thriller         0.01\n",
       "Drama,Horror,Sci-Fi           0.01\n",
       "Drama,Horror,Mystery          0.01\n",
       "Drama,Fantasy,Music           0.01\n",
       "Drama,Fantasy,Horror          0.01\n",
       "Drama,Family                  0.01\n",
       "Drama                         0.01\n",
       "Documentary,Music             0.01\n",
       "Crime,Horror,Mystery          0.01\n",
       "Crime,Drama                   0.01\n",
       "Comedy,Mystery                0.01\n",
       "Comedy,Music,Romance          0.01\n",
       "Comedy,Music                  0.01\n",
       "Comedy,Fantasy                0.01\n",
       "Comedy,Drama,Mystery          0.01\n",
       "Comedy,Drama,Fantasy          0.01\n",
       "Biography,Drama,Thriller      0.01\n",
       "Action,Adventure,Animation    0.01\n",
       "dtype: float64"
      ]
     },
     "execution_count": 43,
     "metadata": {},
     "output_type": "execute_result"
    }
   ],
   "source": [
    "df_top100_roi.value_counts('genres',normalize = True)"
   ]
  },
  {
   "cell_type": "code",
   "execution_count": 44,
   "metadata": {},
   "outputs": [
    {
     "data": {
      "image/png": "[encoded data removed]",
      "text/plain": [
       "<Figure size 432x288 with 1 Axes>"
      ]
     },
     "metadata": {
      "needs_background": "light"
     },
     "output_type": "display_data"
    }
   ],
   "source": [
    "df_top100_roi.groupby('genres')['ROI'].mean()[0:15].sort_values().plot(kind='barh');"
   ]
  },
  {
   "cell_type": "code",
   "execution_count": 45,
   "metadata": {},
   "outputs": [],
   "source": [
    "df_losers = df_filtered.loc[df_filtered['profit'] < 0]"
   ]
  },
  {
   "cell_type": "code",
   "execution_count": 46,
   "metadata": {},
   "outputs": [
    {
     "data": {
      "text/html": [
       "<div>\n",
       "<style scoped>\n",
       "    .dataframe tbody tr th:only-of-type {\n",
       "        vertical-align: middle;\n",
       "    }\n",
       "\n",
       "    .dataframe tbody tr th {\n",
       "        vertical-align: top;\n",
       "    }\n",
       "\n",
       "    .dataframe thead th {\n",
       "        text-align: right;\n",
       "    }\n",
       "</style>\n",
       "<table border=\"1\" class=\"dataframe\">\n",
       "  <thead>\n",
       "    <tr style=\"text-align: right;\">\n",
       "      <th></th>\n",
       "      <th>Unnamed: 0</th>\n",
       "      <th>id</th>\n",
       "      <th>production_budget</th>\n",
       "      <th>domestic_gross</th>\n",
       "      <th>worldwide_gross</th>\n",
       "      <th>year</th>\n",
       "      <th>runtime_minutes</th>\n",
       "      <th>averagerating</th>\n",
       "      <th>numvotes</th>\n",
       "      <th>profit</th>\n",
       "      <th>ROI</th>\n",
       "      <th>dom_revshare</th>\n",
       "    </tr>\n",
       "  </thead>\n",
       "  <tbody>\n",
       "    <tr>\n",
       "      <th>count</th>\n",
       "      <td>212.000000</td>\n",
       "      <td>212.000000</td>\n",
       "      <td>2.120000e+02</td>\n",
       "      <td>2.120000e+02</td>\n",
       "      <td>2.120000e+02</td>\n",
       "      <td>212.000000</td>\n",
       "      <td>212.000000</td>\n",
       "      <td>212.000000</td>\n",
       "      <td>212.000000</td>\n",
       "      <td>2.120000e+02</td>\n",
       "      <td>212.000000</td>\n",
       "      <td>205.000000</td>\n",
       "    </tr>\n",
       "    <tr>\n",
       "      <th>mean</th>\n",
       "      <td>711.061321</td>\n",
       "      <td>46.037736</td>\n",
       "      <td>3.671887e+07</td>\n",
       "      <td>9.921694e+06</td>\n",
       "      <td>2.075555e+07</td>\n",
       "      <td>2014.014151</td>\n",
       "      <td>108.712264</td>\n",
       "      <td>6.011792</td>\n",
       "      <td>45448.877358</td>\n",
       "      <td>-1.596331e+07</td>\n",
       "      <td>-52.130214</td>\n",
       "      <td>51.710300</td>\n",
       "    </tr>\n",
       "    <tr>\n",
       "      <th>std</th>\n",
       "      <td>277.014433</td>\n",
       "      <td>28.561872</td>\n",
       "      <td>4.021369e+07</td>\n",
       "      <td>1.265826e+07</td>\n",
       "      <td>3.202631e+07</td>\n",
       "      <td>2.674221</td>\n",
       "      <td>16.519907</td>\n",
       "      <td>0.923009</td>\n",
       "      <td>51674.717906</td>\n",
       "      <td>1.908628e+07</td>\n",
       "      <td>31.623921</td>\n",
       "      <td>33.127223</td>\n",
       "    </tr>\n",
       "    <tr>\n",
       "      <th>min</th>\n",
       "      <td>1.000000</td>\n",
       "      <td>1.000000</td>\n",
       "      <td>1.000000e+07</td>\n",
       "      <td>0.000000e+00</td>\n",
       "      <td>0.000000e+00</td>\n",
       "      <td>2010.000000</td>\n",
       "      <td>80.000000</td>\n",
       "      <td>1.900000</td>\n",
       "      <td>1024.000000</td>\n",
       "      <td>-2.002376e+08</td>\n",
       "      <td>-100.000000</td>\n",
       "      <td>0.000000</td>\n",
       "    </tr>\n",
       "    <tr>\n",
       "      <th>25%</th>\n",
       "      <td>510.000000</td>\n",
       "      <td>21.000000</td>\n",
       "      <td>1.600000e+07</td>\n",
       "      <td>6.682598e+05</td>\n",
       "      <td>3.947679e+06</td>\n",
       "      <td>2012.000000</td>\n",
       "      <td>96.000000</td>\n",
       "      <td>5.400000</td>\n",
       "      <td>12907.250000</td>\n",
       "      <td>-1.956818e+07</td>\n",
       "      <td>-79.250250</td>\n",
       "      <td>23.914195</td>\n",
       "    </tr>\n",
       "    <tr>\n",
       "      <th>50%</th>\n",
       "      <td>750.500000</td>\n",
       "      <td>47.000000</td>\n",
       "      <td>2.500000e+07</td>\n",
       "      <td>6.087390e+06</td>\n",
       "      <td>1.082999e+07</td>\n",
       "      <td>2014.000000</td>\n",
       "      <td>107.000000</td>\n",
       "      <td>6.100000</td>\n",
       "      <td>33242.000000</td>\n",
       "      <td>-1.155457e+07</td>\n",
       "      <td>-52.037302</td>\n",
       "      <td>53.783876</td>\n",
       "    </tr>\n",
       "    <tr>\n",
       "      <th>75%</th>\n",
       "      <td>927.250000</td>\n",
       "      <td>69.250000</td>\n",
       "      <td>4.025000e+07</td>\n",
       "      <td>1.368229e+07</td>\n",
       "      <td>2.417380e+07</td>\n",
       "      <td>2016.000000</td>\n",
       "      <td>118.250000</td>\n",
       "      <td>6.625000</td>\n",
       "      <td>59536.250000</td>\n",
       "      <td>-7.302970e+06</td>\n",
       "      <td>-21.618885</td>\n",
       "      <td>82.924152</td>\n",
       "    </tr>\n",
       "    <tr>\n",
       "      <th>max</th>\n",
       "      <td>1113.000000</td>\n",
       "      <td>100.000000</td>\n",
       "      <td>3.500000e+08</td>\n",
       "      <td>8.930212e+07</td>\n",
       "      <td>2.600021e+08</td>\n",
       "      <td>2019.000000</td>\n",
       "      <td>172.000000</td>\n",
       "      <td>8.200000</td>\n",
       "      <td>403755.000000</td>\n",
       "      <td>-7.339500e+04</td>\n",
       "      <td>-0.174750</td>\n",
       "      <td>100.000000</td>\n",
       "    </tr>\n",
       "  </tbody>\n",
       "</table>\n",
       "</div>"
      ],
      "text/plain": [
       "        Unnamed: 0          id  production_budget  domestic_gross  \\\n",
       "count   212.000000  212.000000       2.120000e+02    2.120000e+02   \n",
       "mean    711.061321   46.037736       3.671887e+07    9.921694e+06   \n",
       "std     277.014433   28.561872       4.021369e+07    1.265826e+07   \n",
       "min       1.000000    1.000000       1.000000e+07    0.000000e+00   \n",
       "25%     510.000000   21.000000       1.600000e+07    6.682598e+05   \n",
       "50%     750.500000   47.000000       2.500000e+07    6.087390e+06   \n",
       "75%     927.250000   69.250000       4.025000e+07    1.368229e+07   \n",
       "max    1113.000000  100.000000       3.500000e+08    8.930212e+07   \n",
       "\n",
       "       worldwide_gross         year  runtime_minutes  averagerating  \\\n",
       "count     2.120000e+02   212.000000       212.000000     212.000000   \n",
       "mean      2.075555e+07  2014.014151       108.712264       6.011792   \n",
       "std       3.202631e+07     2.674221        16.519907       0.923009   \n",
       "min       0.000000e+00  2010.000000        80.000000       1.900000   \n",
       "25%       3.947679e+06  2012.000000        96.000000       5.400000   \n",
       "50%       1.082999e+07  2014.000000       107.000000       6.100000   \n",
       "75%       2.417380e+07  2016.000000       118.250000       6.625000   \n",
       "max       2.600021e+08  2019.000000       172.000000       8.200000   \n",
       "\n",
       "            numvotes        profit         ROI  dom_revshare  \n",
       "count     212.000000  2.120000e+02  212.000000    205.000000  \n",
       "mean    45448.877358 -1.596331e+07  -52.130214     51.710300  \n",
       "std     51674.717906  1.908628e+07   31.623921     33.127223  \n",
       "min      1024.000000 -2.002376e+08 -100.000000      0.000000  \n",
       "25%     12907.250000 -1.956818e+07  -79.250250     23.914195  \n",
       "50%     33242.000000 -1.155457e+07  -52.037302     53.783876  \n",
       "75%     59536.250000 -7.302970e+06  -21.618885     82.924152  \n",
       "max    403755.000000 -7.339500e+04   -0.174750    100.000000  "
      ]
     },
     "execution_count": 46,
     "metadata": {},
     "output_type": "execute_result"
    }
   ],
   "source": [
    "df_losers.describe()"
   ]
  },
  {
   "cell_type": "code",
   "execution_count": 47,
   "metadata": {},
   "outputs": [
    {
     "name": "stdout",
     "output_type": "stream",
     "text": [
      "<class 'pandas.core.frame.DataFrame'>\n",
      "Int64Index: 212 entries, 1 to 1059\n",
      "Data columns (total 17 columns):\n",
      " #   Column             Non-Null Count  Dtype  \n",
      "---  ------             --------------  -----  \n",
      " 0   Unnamed: 0         212 non-null    int64  \n",
      " 1   id                 212 non-null    int64  \n",
      " 2   release_date       212 non-null    object \n",
      " 3   movie              212 non-null    object \n",
      " 4   production_budget  212 non-null    int64  \n",
      " 5   domestic_gross     212 non-null    int64  \n",
      " 6   worldwide_gross    212 non-null    int64  \n",
      " 7   year               212 non-null    int64  \n",
      " 8   movie_id           212 non-null    object \n",
      " 9   original_title     212 non-null    object \n",
      " 10  runtime_minutes    212 non-null    float64\n",
      " 11  genres             212 non-null    object \n",
      " 12  averagerating      212 non-null    float64\n",
      " 13  numvotes           212 non-null    float64\n",
      " 14  profit             212 non-null    int64  \n",
      " 15  ROI                212 non-null    float64\n",
      " 16  dom_revshare       205 non-null    float64\n",
      "dtypes: float64(5), int64(7), object(5)\n",
      "memory usage: 29.8+ KB\n"
     ]
    }
   ],
   "source": [
    "df_losers.info()"
   ]
  },
  {
   "cell_type": "code",
   "execution_count": 73,
   "metadata": {},
   "outputs": [
    {
     "data": {
      "text/plain": [
       "genres\n",
       "Action,Mystery,Sci-Fi        924.470179\n",
       "Action,Comedy,Drama          836.756515\n",
       "Action,Comedy,Documentary    758.428965\n",
       "Adventure,Drama,Fantasy      753.289512\n",
       "Family,Fantasy,Musical       686.999816\n",
       "Name: ROI, dtype: float64"
      ]
     },
     "execution_count": 73,
     "metadata": {},
     "output_type": "execute_result"
    }
   ],
   "source": [
    "top_5_genres = df_filtered.groupby('genres')['ROI'].mean().sort_values(ascending=False)[0:5]\n",
    "top_5_genres"
   ]
  },
  {
   "cell_type": "code",
   "execution_count": 74,
   "metadata": {},
   "outputs": [],
   "source": [
    "top_5_genres_list = list(top_5_genres.index)"
   ]
  },
  {
   "cell_type": "code",
   "execution_count": 75,
   "metadata": {},
   "outputs": [
    {
     "data": {
      "text/plain": [
       "['Action,Mystery,Sci-Fi',\n",
       " 'Action,Comedy,Drama',\n",
       " 'Action,Comedy,Documentary',\n",
       " 'Adventure,Drama,Fantasy',\n",
       " 'Family,Fantasy,Musical']"
      ]
     },
     "execution_count": 75,
     "metadata": {},
     "output_type": "execute_result"
    }
   ],
   "source": [
    "top_5_genres_list"
   ]
  },
  {
   "cell_type": "code",
   "execution_count": 92,
   "metadata": {},
   "outputs": [],
   "source": [
    "top_5_genres_ROI = df_filtered['ROI'].loc[df_filtered['genres'] == top_5_genres_list[4]]"
   ]
  },
  {
   "cell_type": "code",
   "execution_count": 93,
   "metadata": {},
   "outputs": [
    {
     "data": {
      "text/plain": [
       "93    686.999816\n",
       "Name: ROI, dtype: float64"
      ]
     },
     "execution_count": 93,
     "metadata": {},
     "output_type": "execute_result"
    }
   ],
   "source": [
    "top_5_genres_ROI"
   ]
  },
  {
   "cell_type": "code",
   "execution_count": 102,
   "metadata": {},
   "outputs": [
    {
     "data": {
      "text/plain": [
       "Adventure,Animation,Comedy    66\n",
       "Action,Adventure,Sci-Fi       51\n",
       "Comedy                        40\n",
       "Comedy,Romance                32\n",
       "Action,Crime,Drama            32\n",
       "Action,Adventure,Fantasy      31\n",
       "Comedy,Drama,Romance          27\n",
       "Action,Adventure,Drama        27\n",
       "Action,Comedy,Crime           26\n",
       "Comedy,Drama                  26\n",
       "Drama,Romance                 22\n",
       "Action,Crime,Thriller         20\n",
       "Action,Adventure,Comedy       19\n",
       "Biography,Drama,History       19\n",
       "Crime,Drama,Thriller          17\n",
       "Horror,Mystery,Thriller       16\n",
       "Action,Thriller               15\n",
       "Action,Adventure,Animation    15\n",
       "Crime,Drama,Mystery           15\n",
       "Drama                         14\n",
       "Drama,Thriller                14\n",
       "Adventure,Family,Fantasy      13\n",
       "Biography,Drama               13\n",
       "Biography,Comedy,Drama        13\n",
       "Action,Adventure,Thriller     12\n",
       "Biography,Crime,Drama         11\n",
       "Action,Drama,Thriller         11\n",
       "Biography,Drama,Sport         11\n",
       "Crime,Drama                    9\n",
       "Adventure,Comedy,Family        9\n",
       "Horror,Thriller                9\n",
       "Action,Adventure,Crime         9\n",
       "Comedy,Family                  8\n",
       "Adventure,Comedy,Drama         8\n",
       "Action,Drama,Sci-Fi            8\n",
       "Biography,Drama,Thriller       7\n",
       "Comedy,Crime                   7\n",
       "Comedy,Drama,Music             7\n",
       "Drama,Sport                    7\n",
       "Action,Sci-Fi,Thriller         7\n",
       "Action,Biography,Drama         6\n",
       "Action,Fantasy,Horror          6\n",
       "Action,Adventure,Family        6\n",
       "Adventure,Comedy               6\n",
       "Drama,Mystery,Thriller         6\n",
       "Drama,Fantasy,Horror           6\n",
       "Action,Mystery,Thriller        6\n",
       "Biography,Drama,Music          5\n",
       "Drama,Fantasy,Romance          5\n",
       "Animation,Comedy,Family        5\n",
       "Comedy,Crime,Drama             5\n",
       "Crime,Drama,Horror             5\n",
       "Drama,Horror,Mystery           5\n",
       "Action,Animation,Comedy        5\n",
       "Action,Drama,History           5\n",
       "Adventure,Comedy,Crime         5\n",
       "Name: genres, dtype: int64"
      ]
     },
     "execution_count": 102,
     "metadata": {},
     "output_type": "execute_result"
    }
   ],
   "source": [
    "df_filtered['genres'].value_counts()[0:56]"
   ]
  },
  {
   "cell_type": "code",
   "execution_count": 104,
   "metadata": {},
   "outputs": [
    {
     "data": {
      "text/plain": [
       "187"
      ]
     },
     "execution_count": 104,
     "metadata": {},
     "output_type": "execute_result"
    }
   ],
   "source": [
    "df_filtered['genres'].value_counts().count()"
   ]
  },
  {
   "cell_type": "code",
   "execution_count": null,
   "metadata": {},
   "outputs": [],
   "source": []
  }
 ],
 "metadata": {
  "kernelspec": {
   "display_name": "Python (learn-env)",
   "language": "python",
   "name": "learn-env"
  },
  "language_info": {
   "codemirror_mode": {
    "name": "ipython",
    "version": 3
   },
   "file_extension": ".py",
   "mimetype": "text/x-python",
   "name": "python",
   "nbconvert_exporter": "python",
   "pygments_lexer": "ipython3",
   "version": "3.8.5"
  }
 },
 "nbformat": 4,
 "nbformat_minor": 4
}
